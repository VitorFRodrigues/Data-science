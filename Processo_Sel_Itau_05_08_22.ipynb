{
  "nbformat": 4,
  "nbformat_minor": 0,
  "metadata": {
    "colab": {
      "name": "Processo_Sel_Itau_05-08-22.ipynb",
      "provenance": [],
      "authorship_tag": "ABX9TyO5D2QzRoUFrB52klpVDiVF",
      "include_colab_link": true
    },
    "kernelspec": {
      "name": "python3",
      "display_name": "Python 3"
    },
    "language_info": {
      "name": "python"
    }
  },
  "cells": [
    {
      "cell_type": "markdown",
      "metadata": {
        "id": "view-in-github",
        "colab_type": "text"
      },
      "source": [
        "<a href=\"https://colab.research.google.com/github/VitorFRodrigues/Data-science/blob/main/Processo_Sel_Itau_05_08_22.ipynb\" target=\"_parent\"><img src=\"https://colab.research.google.com/assets/colab-badge.svg\" alt=\"Open In Colab\"/></a>"
      ]
    },
    {
      "cell_type": "code",
      "execution_count": 1,
      "metadata": {
        "id": "1TXYyUDgELG5"
      },
      "outputs": [],
      "source": [
        "import pandas as pd\n",
        "import numpy as np\n",
        "import matplotlib.pyplot as plt\n",
        "from scipy.stats import norm"
      ]
    },
    {
      "cell_type": "code",
      "source": [
        "agrupamento = pd.read_csv(\"/content/agrupamento.csv\", encoding=\"ISO-8859-1\")\n",
        "agrupamento.head()"
      ],
      "metadata": {
        "colab": {
          "base_uri": "https://localhost:8080/",
          "height": 206
        },
        "id": "fTitB7JeEkrv",
        "outputId": "5f846989-a690-4c77-8322-306d1f142055"
      },
      "execution_count": 2,
      "outputs": [
        {
          "output_type": "execute_result",
          "data": {
            "text/plain": [
              "         x0        x1        x2        x3        x4\n",
              "0  5.447043  6.319084  2.664620  6.568743  4.802295\n",
              "1  4.875562  4.796801  2.154231  6.832907  5.321401\n",
              "2  5.582920  5.060775  1.895917  6.004299  6.330105\n",
              "3  6.370727  3.717727  1.729007  5.923414  4.533557\n",
              "4  4.789262  4.510056  0.669330  7.731273  4.272356"
            ],
            "text/html": [
              "\n",
              "  <div id=\"df-b088cc77-9bbe-40c6-bf69-4796c6062c6c\">\n",
              "    <div class=\"colab-df-container\">\n",
              "      <div>\n",
              "<style scoped>\n",
              "    .dataframe tbody tr th:only-of-type {\n",
              "        vertical-align: middle;\n",
              "    }\n",
              "\n",
              "    .dataframe tbody tr th {\n",
              "        vertical-align: top;\n",
              "    }\n",
              "\n",
              "    .dataframe thead th {\n",
              "        text-align: right;\n",
              "    }\n",
              "</style>\n",
              "<table border=\"1\" class=\"dataframe\">\n",
              "  <thead>\n",
              "    <tr style=\"text-align: right;\">\n",
              "      <th></th>\n",
              "      <th>x0</th>\n",
              "      <th>x1</th>\n",
              "      <th>x2</th>\n",
              "      <th>x3</th>\n",
              "      <th>x4</th>\n",
              "    </tr>\n",
              "  </thead>\n",
              "  <tbody>\n",
              "    <tr>\n",
              "      <th>0</th>\n",
              "      <td>5.447043</td>\n",
              "      <td>6.319084</td>\n",
              "      <td>2.664620</td>\n",
              "      <td>6.568743</td>\n",
              "      <td>4.802295</td>\n",
              "    </tr>\n",
              "    <tr>\n",
              "      <th>1</th>\n",
              "      <td>4.875562</td>\n",
              "      <td>4.796801</td>\n",
              "      <td>2.154231</td>\n",
              "      <td>6.832907</td>\n",
              "      <td>5.321401</td>\n",
              "    </tr>\n",
              "    <tr>\n",
              "      <th>2</th>\n",
              "      <td>5.582920</td>\n",
              "      <td>5.060775</td>\n",
              "      <td>1.895917</td>\n",
              "      <td>6.004299</td>\n",
              "      <td>6.330105</td>\n",
              "    </tr>\n",
              "    <tr>\n",
              "      <th>3</th>\n",
              "      <td>6.370727</td>\n",
              "      <td>3.717727</td>\n",
              "      <td>1.729007</td>\n",
              "      <td>5.923414</td>\n",
              "      <td>4.533557</td>\n",
              "    </tr>\n",
              "    <tr>\n",
              "      <th>4</th>\n",
              "      <td>4.789262</td>\n",
              "      <td>4.510056</td>\n",
              "      <td>0.669330</td>\n",
              "      <td>7.731273</td>\n",
              "      <td>4.272356</td>\n",
              "    </tr>\n",
              "  </tbody>\n",
              "</table>\n",
              "</div>\n",
              "      <button class=\"colab-df-convert\" onclick=\"convertToInteractive('df-b088cc77-9bbe-40c6-bf69-4796c6062c6c')\"\n",
              "              title=\"Convert this dataframe to an interactive table.\"\n",
              "              style=\"display:none;\">\n",
              "        \n",
              "  <svg xmlns=\"http://www.w3.org/2000/svg\" height=\"24px\"viewBox=\"0 0 24 24\"\n",
              "       width=\"24px\">\n",
              "    <path d=\"M0 0h24v24H0V0z\" fill=\"none\"/>\n",
              "    <path d=\"M18.56 5.44l.94 2.06.94-2.06 2.06-.94-2.06-.94-.94-2.06-.94 2.06-2.06.94zm-11 1L8.5 8.5l.94-2.06 2.06-.94-2.06-.94L8.5 2.5l-.94 2.06-2.06.94zm10 10l.94 2.06.94-2.06 2.06-.94-2.06-.94-.94-2.06-.94 2.06-2.06.94z\"/><path d=\"M17.41 7.96l-1.37-1.37c-.4-.4-.92-.59-1.43-.59-.52 0-1.04.2-1.43.59L10.3 9.45l-7.72 7.72c-.78.78-.78 2.05 0 2.83L4 21.41c.39.39.9.59 1.41.59.51 0 1.02-.2 1.41-.59l7.78-7.78 2.81-2.81c.8-.78.8-2.07 0-2.86zM5.41 20L4 18.59l7.72-7.72 1.47 1.35L5.41 20z\"/>\n",
              "  </svg>\n",
              "      </button>\n",
              "      \n",
              "  <style>\n",
              "    .colab-df-container {\n",
              "      display:flex;\n",
              "      flex-wrap:wrap;\n",
              "      gap: 12px;\n",
              "    }\n",
              "\n",
              "    .colab-df-convert {\n",
              "      background-color: #E8F0FE;\n",
              "      border: none;\n",
              "      border-radius: 50%;\n",
              "      cursor: pointer;\n",
              "      display: none;\n",
              "      fill: #1967D2;\n",
              "      height: 32px;\n",
              "      padding: 0 0 0 0;\n",
              "      width: 32px;\n",
              "    }\n",
              "\n",
              "    .colab-df-convert:hover {\n",
              "      background-color: #E2EBFA;\n",
              "      box-shadow: 0px 1px 2px rgba(60, 64, 67, 0.3), 0px 1px 3px 1px rgba(60, 64, 67, 0.15);\n",
              "      fill: #174EA6;\n",
              "    }\n",
              "\n",
              "    [theme=dark] .colab-df-convert {\n",
              "      background-color: #3B4455;\n",
              "      fill: #D2E3FC;\n",
              "    }\n",
              "\n",
              "    [theme=dark] .colab-df-convert:hover {\n",
              "      background-color: #434B5C;\n",
              "      box-shadow: 0px 1px 3px 1px rgba(0, 0, 0, 0.15);\n",
              "      filter: drop-shadow(0px 1px 2px rgba(0, 0, 0, 0.3));\n",
              "      fill: #FFFFFF;\n",
              "    }\n",
              "  </style>\n",
              "\n",
              "      <script>\n",
              "        const buttonEl =\n",
              "          document.querySelector('#df-b088cc77-9bbe-40c6-bf69-4796c6062c6c button.colab-df-convert');\n",
              "        buttonEl.style.display =\n",
              "          google.colab.kernel.accessAllowed ? 'block' : 'none';\n",
              "\n",
              "        async function convertToInteractive(key) {\n",
              "          const element = document.querySelector('#df-b088cc77-9bbe-40c6-bf69-4796c6062c6c');\n",
              "          const dataTable =\n",
              "            await google.colab.kernel.invokeFunction('convertToInteractive',\n",
              "                                                     [key], {});\n",
              "          if (!dataTable) return;\n",
              "\n",
              "          const docLinkHtml = 'Like what you see? Visit the ' +\n",
              "            '<a target=\"_blank\" href=https://colab.research.google.com/notebooks/data_table.ipynb>data table notebook</a>'\n",
              "            + ' to learn more about interactive tables.';\n",
              "          element.innerHTML = '';\n",
              "          dataTable['output_type'] = 'display_data';\n",
              "          await google.colab.output.renderOutput(dataTable, element);\n",
              "          const docLink = document.createElement('div');\n",
              "          docLink.innerHTML = docLinkHtml;\n",
              "          element.appendChild(docLink);\n",
              "        }\n",
              "      </script>\n",
              "    </div>\n",
              "  </div>\n",
              "  "
            ]
          },
          "metadata": {},
          "execution_count": 2
        }
      ]
    },
    {
      "cell_type": "code",
      "source": [
        "classificacao_Q1 = pd.read_csv(\"/content/classificacao_Q1.csv\", encoding=\"ISO-8859-1\")\n",
        "classificacao_Q1.head()"
      ],
      "metadata": {
        "colab": {
          "base_uri": "https://localhost:8080/",
          "height": 250
        },
        "id": "eaSDNX8SFC0K",
        "outputId": "37046c36-6052-4e51-bab0-9daf6af07f9d"
      },
      "execution_count": 3,
      "outputs": [
        {
          "output_type": "execute_result",
          "data": {
            "text/plain": [
              "       v_1      v_2      v_3      v_4      v_5      v_6      v_7      v_8  \\\n",
              "0 -1.79796 -1.75901 -2.14257 -0.01878 -0.58601 -3.08224 -1.71369  1.41805   \n",
              "1 -2.78612 -1.60622 -4.05247  3.33814  1.44255 -3.95343 -3.32328  0.71019   \n",
              "2 -1.31957  2.61125 -0.99663  0.34752  0.85253  4.22652  0.84765  0.88530   \n",
              "3 -3.26219 -2.11510  0.68081 -0.49290 -2.45122 -2.37668 -0.00338  3.95559   \n",
              "4  5.26181  1.85527 -2.29242 -0.86763  0.11625 -2.17675 -1.72692 -2.34726   \n",
              "\n",
              "       v_9     v_10     v_11     v_12  target  \n",
              "0  2.29783  1.11745 -3.43483  1.94926       0  \n",
              "1  2.31973  0.57596 -4.22278  0.51171       0  \n",
              "2 -1.01460  1.03488 -0.84593  2.64307       1  \n",
              "3  1.42793  1.68710 -1.35533  2.82004       0  \n",
              "4  1.98107 -4.58177 -2.26649 -3.33875       1  "
            ],
            "text/html": [
              "\n",
              "  <div id=\"df-129e5799-6a77-4017-a184-1dedd821bf49\">\n",
              "    <div class=\"colab-df-container\">\n",
              "      <div>\n",
              "<style scoped>\n",
              "    .dataframe tbody tr th:only-of-type {\n",
              "        vertical-align: middle;\n",
              "    }\n",
              "\n",
              "    .dataframe tbody tr th {\n",
              "        vertical-align: top;\n",
              "    }\n",
              "\n",
              "    .dataframe thead th {\n",
              "        text-align: right;\n",
              "    }\n",
              "</style>\n",
              "<table border=\"1\" class=\"dataframe\">\n",
              "  <thead>\n",
              "    <tr style=\"text-align: right;\">\n",
              "      <th></th>\n",
              "      <th>v_1</th>\n",
              "      <th>v_2</th>\n",
              "      <th>v_3</th>\n",
              "      <th>v_4</th>\n",
              "      <th>v_5</th>\n",
              "      <th>v_6</th>\n",
              "      <th>v_7</th>\n",
              "      <th>v_8</th>\n",
              "      <th>v_9</th>\n",
              "      <th>v_10</th>\n",
              "      <th>v_11</th>\n",
              "      <th>v_12</th>\n",
              "      <th>target</th>\n",
              "    </tr>\n",
              "  </thead>\n",
              "  <tbody>\n",
              "    <tr>\n",
              "      <th>0</th>\n",
              "      <td>-1.79796</td>\n",
              "      <td>-1.75901</td>\n",
              "      <td>-2.14257</td>\n",
              "      <td>-0.01878</td>\n",
              "      <td>-0.58601</td>\n",
              "      <td>-3.08224</td>\n",
              "      <td>-1.71369</td>\n",
              "      <td>1.41805</td>\n",
              "      <td>2.29783</td>\n",
              "      <td>1.11745</td>\n",
              "      <td>-3.43483</td>\n",
              "      <td>1.94926</td>\n",
              "      <td>0</td>\n",
              "    </tr>\n",
              "    <tr>\n",
              "      <th>1</th>\n",
              "      <td>-2.78612</td>\n",
              "      <td>-1.60622</td>\n",
              "      <td>-4.05247</td>\n",
              "      <td>3.33814</td>\n",
              "      <td>1.44255</td>\n",
              "      <td>-3.95343</td>\n",
              "      <td>-3.32328</td>\n",
              "      <td>0.71019</td>\n",
              "      <td>2.31973</td>\n",
              "      <td>0.57596</td>\n",
              "      <td>-4.22278</td>\n",
              "      <td>0.51171</td>\n",
              "      <td>0</td>\n",
              "    </tr>\n",
              "    <tr>\n",
              "      <th>2</th>\n",
              "      <td>-1.31957</td>\n",
              "      <td>2.61125</td>\n",
              "      <td>-0.99663</td>\n",
              "      <td>0.34752</td>\n",
              "      <td>0.85253</td>\n",
              "      <td>4.22652</td>\n",
              "      <td>0.84765</td>\n",
              "      <td>0.88530</td>\n",
              "      <td>-1.01460</td>\n",
              "      <td>1.03488</td>\n",
              "      <td>-0.84593</td>\n",
              "      <td>2.64307</td>\n",
              "      <td>1</td>\n",
              "    </tr>\n",
              "    <tr>\n",
              "      <th>3</th>\n",
              "      <td>-3.26219</td>\n",
              "      <td>-2.11510</td>\n",
              "      <td>0.68081</td>\n",
              "      <td>-0.49290</td>\n",
              "      <td>-2.45122</td>\n",
              "      <td>-2.37668</td>\n",
              "      <td>-0.00338</td>\n",
              "      <td>3.95559</td>\n",
              "      <td>1.42793</td>\n",
              "      <td>1.68710</td>\n",
              "      <td>-1.35533</td>\n",
              "      <td>2.82004</td>\n",
              "      <td>0</td>\n",
              "    </tr>\n",
              "    <tr>\n",
              "      <th>4</th>\n",
              "      <td>5.26181</td>\n",
              "      <td>1.85527</td>\n",
              "      <td>-2.29242</td>\n",
              "      <td>-0.86763</td>\n",
              "      <td>0.11625</td>\n",
              "      <td>-2.17675</td>\n",
              "      <td>-1.72692</td>\n",
              "      <td>-2.34726</td>\n",
              "      <td>1.98107</td>\n",
              "      <td>-4.58177</td>\n",
              "      <td>-2.26649</td>\n",
              "      <td>-3.33875</td>\n",
              "      <td>1</td>\n",
              "    </tr>\n",
              "  </tbody>\n",
              "</table>\n",
              "</div>\n",
              "      <button class=\"colab-df-convert\" onclick=\"convertToInteractive('df-129e5799-6a77-4017-a184-1dedd821bf49')\"\n",
              "              title=\"Convert this dataframe to an interactive table.\"\n",
              "              style=\"display:none;\">\n",
              "        \n",
              "  <svg xmlns=\"http://www.w3.org/2000/svg\" height=\"24px\"viewBox=\"0 0 24 24\"\n",
              "       width=\"24px\">\n",
              "    <path d=\"M0 0h24v24H0V0z\" fill=\"none\"/>\n",
              "    <path d=\"M18.56 5.44l.94 2.06.94-2.06 2.06-.94-2.06-.94-.94-2.06-.94 2.06-2.06.94zm-11 1L8.5 8.5l.94-2.06 2.06-.94-2.06-.94L8.5 2.5l-.94 2.06-2.06.94zm10 10l.94 2.06.94-2.06 2.06-.94-2.06-.94-.94-2.06-.94 2.06-2.06.94z\"/><path d=\"M17.41 7.96l-1.37-1.37c-.4-.4-.92-.59-1.43-.59-.52 0-1.04.2-1.43.59L10.3 9.45l-7.72 7.72c-.78.78-.78 2.05 0 2.83L4 21.41c.39.39.9.59 1.41.59.51 0 1.02-.2 1.41-.59l7.78-7.78 2.81-2.81c.8-.78.8-2.07 0-2.86zM5.41 20L4 18.59l7.72-7.72 1.47 1.35L5.41 20z\"/>\n",
              "  </svg>\n",
              "      </button>\n",
              "      \n",
              "  <style>\n",
              "    .colab-df-container {\n",
              "      display:flex;\n",
              "      flex-wrap:wrap;\n",
              "      gap: 12px;\n",
              "    }\n",
              "\n",
              "    .colab-df-convert {\n",
              "      background-color: #E8F0FE;\n",
              "      border: none;\n",
              "      border-radius: 50%;\n",
              "      cursor: pointer;\n",
              "      display: none;\n",
              "      fill: #1967D2;\n",
              "      height: 32px;\n",
              "      padding: 0 0 0 0;\n",
              "      width: 32px;\n",
              "    }\n",
              "\n",
              "    .colab-df-convert:hover {\n",
              "      background-color: #E2EBFA;\n",
              "      box-shadow: 0px 1px 2px rgba(60, 64, 67, 0.3), 0px 1px 3px 1px rgba(60, 64, 67, 0.15);\n",
              "      fill: #174EA6;\n",
              "    }\n",
              "\n",
              "    [theme=dark] .colab-df-convert {\n",
              "      background-color: #3B4455;\n",
              "      fill: #D2E3FC;\n",
              "    }\n",
              "\n",
              "    [theme=dark] .colab-df-convert:hover {\n",
              "      background-color: #434B5C;\n",
              "      box-shadow: 0px 1px 3px 1px rgba(0, 0, 0, 0.15);\n",
              "      filter: drop-shadow(0px 1px 2px rgba(0, 0, 0, 0.3));\n",
              "      fill: #FFFFFF;\n",
              "    }\n",
              "  </style>\n",
              "\n",
              "      <script>\n",
              "        const buttonEl =\n",
              "          document.querySelector('#df-129e5799-6a77-4017-a184-1dedd821bf49 button.colab-df-convert');\n",
              "        buttonEl.style.display =\n",
              "          google.colab.kernel.accessAllowed ? 'block' : 'none';\n",
              "\n",
              "        async function convertToInteractive(key) {\n",
              "          const element = document.querySelector('#df-129e5799-6a77-4017-a184-1dedd821bf49');\n",
              "          const dataTable =\n",
              "            await google.colab.kernel.invokeFunction('convertToInteractive',\n",
              "                                                     [key], {});\n",
              "          if (!dataTable) return;\n",
              "\n",
              "          const docLinkHtml = 'Like what you see? Visit the ' +\n",
              "            '<a target=\"_blank\" href=https://colab.research.google.com/notebooks/data_table.ipynb>data table notebook</a>'\n",
              "            + ' to learn more about interactive tables.';\n",
              "          element.innerHTML = '';\n",
              "          dataTable['output_type'] = 'display_data';\n",
              "          await google.colab.output.renderOutput(dataTable, element);\n",
              "          const docLink = document.createElement('div');\n",
              "          docLink.innerHTML = docLinkHtml;\n",
              "          element.appendChild(docLink);\n",
              "        }\n",
              "      </script>\n",
              "    </div>\n",
              "  </div>\n",
              "  "
            ]
          },
          "metadata": {},
          "execution_count": 3
        }
      ]
    },
    {
      "cell_type": "code",
      "source": [
        "classificacao_Q2 = pd.read_csv(\"/content/classificacao_Q2.csv\", encoding=\"ISO-8859-1\")\n",
        "classificacao_Q2.head()"
      ],
      "metadata": {
        "colab": {
          "base_uri": "https://localhost:8080/",
          "height": 270
        },
        "id": "Qc6gdjb6FCty",
        "outputId": "bdaac53e-ca49-451d-9bcd-cf92f4dd2f65"
      },
      "execution_count": 4,
      "outputs": [
        {
          "output_type": "execute_result",
          "data": {
            "text/plain": [
              "       v_1      v_2      v_3      v_4      v_5      v_6      v_7      v_8  \\\n",
              "0 -1.39917  0.96108 -0.36145  0.26092  2.78953 -1.55046 -0.79886  0.24304   \n",
              "1 -2.48564  1.24529 -0.39431  1.06648  1.71957 -0.60296 -2.35698 -2.31878   \n",
              "2 -0.57025  0.65495 -0.73706  0.22444 -0.44094 -0.42596  0.44267 -1.74196   \n",
              "3  2.10165  1.46236 -0.25678  2.58908 -3.40158  2.43561  0.74701 -0.65229   \n",
              "4  3.01588 -2.50913 -2.01442  2.10296 -3.05465  5.38227  0.46846  1.57586   \n",
              "\n",
              "       v_9     v_10     v_11     v_12     v_13  target  \n",
              "0  1.51733 -0.03357 -1.51127 -0.97444 -0.01934       0  \n",
              "1  0.95555 -2.00420 -0.75294 -3.64680 -0.55923       0  \n",
              "2 -0.06599 -0.36783  0.93065 -0.72392  0.37139       0  \n",
              "3 -0.45497 -1.57951  2.07367  1.86435 -0.37664       1  \n",
              "4  3.02176 -0.86271 -1.14418 -0.89712  0.61823       1  "
            ],
            "text/html": [
              "\n",
              "  <div id=\"df-39f4aff5-0d89-42cc-a149-648365372a25\">\n",
              "    <div class=\"colab-df-container\">\n",
              "      <div>\n",
              "<style scoped>\n",
              "    .dataframe tbody tr th:only-of-type {\n",
              "        vertical-align: middle;\n",
              "    }\n",
              "\n",
              "    .dataframe tbody tr th {\n",
              "        vertical-align: top;\n",
              "    }\n",
              "\n",
              "    .dataframe thead th {\n",
              "        text-align: right;\n",
              "    }\n",
              "</style>\n",
              "<table border=\"1\" class=\"dataframe\">\n",
              "  <thead>\n",
              "    <tr style=\"text-align: right;\">\n",
              "      <th></th>\n",
              "      <th>v_1</th>\n",
              "      <th>v_2</th>\n",
              "      <th>v_3</th>\n",
              "      <th>v_4</th>\n",
              "      <th>v_5</th>\n",
              "      <th>v_6</th>\n",
              "      <th>v_7</th>\n",
              "      <th>v_8</th>\n",
              "      <th>v_9</th>\n",
              "      <th>v_10</th>\n",
              "      <th>v_11</th>\n",
              "      <th>v_12</th>\n",
              "      <th>v_13</th>\n",
              "      <th>target</th>\n",
              "    </tr>\n",
              "  </thead>\n",
              "  <tbody>\n",
              "    <tr>\n",
              "      <th>0</th>\n",
              "      <td>-1.39917</td>\n",
              "      <td>0.96108</td>\n",
              "      <td>-0.36145</td>\n",
              "      <td>0.26092</td>\n",
              "      <td>2.78953</td>\n",
              "      <td>-1.55046</td>\n",
              "      <td>-0.79886</td>\n",
              "      <td>0.24304</td>\n",
              "      <td>1.51733</td>\n",
              "      <td>-0.03357</td>\n",
              "      <td>-1.51127</td>\n",
              "      <td>-0.97444</td>\n",
              "      <td>-0.01934</td>\n",
              "      <td>0</td>\n",
              "    </tr>\n",
              "    <tr>\n",
              "      <th>1</th>\n",
              "      <td>-2.48564</td>\n",
              "      <td>1.24529</td>\n",
              "      <td>-0.39431</td>\n",
              "      <td>1.06648</td>\n",
              "      <td>1.71957</td>\n",
              "      <td>-0.60296</td>\n",
              "      <td>-2.35698</td>\n",
              "      <td>-2.31878</td>\n",
              "      <td>0.95555</td>\n",
              "      <td>-2.00420</td>\n",
              "      <td>-0.75294</td>\n",
              "      <td>-3.64680</td>\n",
              "      <td>-0.55923</td>\n",
              "      <td>0</td>\n",
              "    </tr>\n",
              "    <tr>\n",
              "      <th>2</th>\n",
              "      <td>-0.57025</td>\n",
              "      <td>0.65495</td>\n",
              "      <td>-0.73706</td>\n",
              "      <td>0.22444</td>\n",
              "      <td>-0.44094</td>\n",
              "      <td>-0.42596</td>\n",
              "      <td>0.44267</td>\n",
              "      <td>-1.74196</td>\n",
              "      <td>-0.06599</td>\n",
              "      <td>-0.36783</td>\n",
              "      <td>0.93065</td>\n",
              "      <td>-0.72392</td>\n",
              "      <td>0.37139</td>\n",
              "      <td>0</td>\n",
              "    </tr>\n",
              "    <tr>\n",
              "      <th>3</th>\n",
              "      <td>2.10165</td>\n",
              "      <td>1.46236</td>\n",
              "      <td>-0.25678</td>\n",
              "      <td>2.58908</td>\n",
              "      <td>-3.40158</td>\n",
              "      <td>2.43561</td>\n",
              "      <td>0.74701</td>\n",
              "      <td>-0.65229</td>\n",
              "      <td>-0.45497</td>\n",
              "      <td>-1.57951</td>\n",
              "      <td>2.07367</td>\n",
              "      <td>1.86435</td>\n",
              "      <td>-0.37664</td>\n",
              "      <td>1</td>\n",
              "    </tr>\n",
              "    <tr>\n",
              "      <th>4</th>\n",
              "      <td>3.01588</td>\n",
              "      <td>-2.50913</td>\n",
              "      <td>-2.01442</td>\n",
              "      <td>2.10296</td>\n",
              "      <td>-3.05465</td>\n",
              "      <td>5.38227</td>\n",
              "      <td>0.46846</td>\n",
              "      <td>1.57586</td>\n",
              "      <td>3.02176</td>\n",
              "      <td>-0.86271</td>\n",
              "      <td>-1.14418</td>\n",
              "      <td>-0.89712</td>\n",
              "      <td>0.61823</td>\n",
              "      <td>1</td>\n",
              "    </tr>\n",
              "  </tbody>\n",
              "</table>\n",
              "</div>\n",
              "      <button class=\"colab-df-convert\" onclick=\"convertToInteractive('df-39f4aff5-0d89-42cc-a149-648365372a25')\"\n",
              "              title=\"Convert this dataframe to an interactive table.\"\n",
              "              style=\"display:none;\">\n",
              "        \n",
              "  <svg xmlns=\"http://www.w3.org/2000/svg\" height=\"24px\"viewBox=\"0 0 24 24\"\n",
              "       width=\"24px\">\n",
              "    <path d=\"M0 0h24v24H0V0z\" fill=\"none\"/>\n",
              "    <path d=\"M18.56 5.44l.94 2.06.94-2.06 2.06-.94-2.06-.94-.94-2.06-.94 2.06-2.06.94zm-11 1L8.5 8.5l.94-2.06 2.06-.94-2.06-.94L8.5 2.5l-.94 2.06-2.06.94zm10 10l.94 2.06.94-2.06 2.06-.94-2.06-.94-.94-2.06-.94 2.06-2.06.94z\"/><path d=\"M17.41 7.96l-1.37-1.37c-.4-.4-.92-.59-1.43-.59-.52 0-1.04.2-1.43.59L10.3 9.45l-7.72 7.72c-.78.78-.78 2.05 0 2.83L4 21.41c.39.39.9.59 1.41.59.51 0 1.02-.2 1.41-.59l7.78-7.78 2.81-2.81c.8-.78.8-2.07 0-2.86zM5.41 20L4 18.59l7.72-7.72 1.47 1.35L5.41 20z\"/>\n",
              "  </svg>\n",
              "      </button>\n",
              "      \n",
              "  <style>\n",
              "    .colab-df-container {\n",
              "      display:flex;\n",
              "      flex-wrap:wrap;\n",
              "      gap: 12px;\n",
              "    }\n",
              "\n",
              "    .colab-df-convert {\n",
              "      background-color: #E8F0FE;\n",
              "      border: none;\n",
              "      border-radius: 50%;\n",
              "      cursor: pointer;\n",
              "      display: none;\n",
              "      fill: #1967D2;\n",
              "      height: 32px;\n",
              "      padding: 0 0 0 0;\n",
              "      width: 32px;\n",
              "    }\n",
              "\n",
              "    .colab-df-convert:hover {\n",
              "      background-color: #E2EBFA;\n",
              "      box-shadow: 0px 1px 2px rgba(60, 64, 67, 0.3), 0px 1px 3px 1px rgba(60, 64, 67, 0.15);\n",
              "      fill: #174EA6;\n",
              "    }\n",
              "\n",
              "    [theme=dark] .colab-df-convert {\n",
              "      background-color: #3B4455;\n",
              "      fill: #D2E3FC;\n",
              "    }\n",
              "\n",
              "    [theme=dark] .colab-df-convert:hover {\n",
              "      background-color: #434B5C;\n",
              "      box-shadow: 0px 1px 3px 1px rgba(0, 0, 0, 0.15);\n",
              "      filter: drop-shadow(0px 1px 2px rgba(0, 0, 0, 0.3));\n",
              "      fill: #FFFFFF;\n",
              "    }\n",
              "  </style>\n",
              "\n",
              "      <script>\n",
              "        const buttonEl =\n",
              "          document.querySelector('#df-39f4aff5-0d89-42cc-a149-648365372a25 button.colab-df-convert');\n",
              "        buttonEl.style.display =\n",
              "          google.colab.kernel.accessAllowed ? 'block' : 'none';\n",
              "\n",
              "        async function convertToInteractive(key) {\n",
              "          const element = document.querySelector('#df-39f4aff5-0d89-42cc-a149-648365372a25');\n",
              "          const dataTable =\n",
              "            await google.colab.kernel.invokeFunction('convertToInteractive',\n",
              "                                                     [key], {});\n",
              "          if (!dataTable) return;\n",
              "\n",
              "          const docLinkHtml = 'Like what you see? Visit the ' +\n",
              "            '<a target=\"_blank\" href=https://colab.research.google.com/notebooks/data_table.ipynb>data table notebook</a>'\n",
              "            + ' to learn more about interactive tables.';\n",
              "          element.innerHTML = '';\n",
              "          dataTable['output_type'] = 'display_data';\n",
              "          await google.colab.output.renderOutput(dataTable, element);\n",
              "          const docLink = document.createElement('div');\n",
              "          docLink.innerHTML = docLinkHtml;\n",
              "          element.appendChild(docLink);\n",
              "        }\n",
              "      </script>\n",
              "    </div>\n",
              "  </div>\n",
              "  "
            ]
          },
          "metadata": {},
          "execution_count": 4
        }
      ]
    },
    {
      "cell_type": "code",
      "source": [
        "regressao_Q1 = pd.read_csv(\"/content/regressao_Q1.csv\", encoding=\"ISO-8859-1\")\n",
        "regressao_Q1.head()"
      ],
      "metadata": {
        "colab": {
          "base_uri": "https://localhost:8080/",
          "height": 206
        },
        "id": "2qpHutAGFCnJ",
        "outputId": "8ba2d5c5-105d-4fe4-984e-b1ae69ce58d2"
      },
      "execution_count": 5,
      "outputs": [
        {
          "output_type": "execute_result",
          "data": {
            "text/plain": [
              "       v_1      v_2      v_3      v_4      v_5      v_6      v_7      v_8  \\\n",
              "0 -0.97127 -0.56128  1.20414  2.25145 -0.25802  0.06246 -1.78623 -0.27690   \n",
              "1  0.89456 -0.94099 -0.19972 -0.08354 -0.96865  0.62801  0.91543  0.20413   \n",
              "2 -0.98777 -0.55565 -0.94141 -1.86277  0.38659 -0.02523 -1.26714  1.07328   \n",
              "3  0.03972 -0.99258  0.63481  0.01554 -0.39203 -0.72647  0.46098  0.79395   \n",
              "4 -1.66022 -0.06734 -0.72252 -1.32035  0.06715  2.39937 -1.30566 -0.65222   \n",
              "\n",
              "       v_9     v_10    target  \n",
              "0 -0.22255  0.20963 -0.062202  \n",
              "1 -0.13587  0.96820  0.112596  \n",
              "2 -0.28350  0.34430  0.167633  \n",
              "3  0.22686  0.25065 -0.844727  \n",
              "4  0.36628  0.31644  2.221942  "
            ],
            "text/html": [
              "\n",
              "  <div id=\"df-5ee356fc-020d-4a4b-bbc4-c6da895ca978\">\n",
              "    <div class=\"colab-df-container\">\n",
              "      <div>\n",
              "<style scoped>\n",
              "    .dataframe tbody tr th:only-of-type {\n",
              "        vertical-align: middle;\n",
              "    }\n",
              "\n",
              "    .dataframe tbody tr th {\n",
              "        vertical-align: top;\n",
              "    }\n",
              "\n",
              "    .dataframe thead th {\n",
              "        text-align: right;\n",
              "    }\n",
              "</style>\n",
              "<table border=\"1\" class=\"dataframe\">\n",
              "  <thead>\n",
              "    <tr style=\"text-align: right;\">\n",
              "      <th></th>\n",
              "      <th>v_1</th>\n",
              "      <th>v_2</th>\n",
              "      <th>v_3</th>\n",
              "      <th>v_4</th>\n",
              "      <th>v_5</th>\n",
              "      <th>v_6</th>\n",
              "      <th>v_7</th>\n",
              "      <th>v_8</th>\n",
              "      <th>v_9</th>\n",
              "      <th>v_10</th>\n",
              "      <th>target</th>\n",
              "    </tr>\n",
              "  </thead>\n",
              "  <tbody>\n",
              "    <tr>\n",
              "      <th>0</th>\n",
              "      <td>-0.97127</td>\n",
              "      <td>-0.56128</td>\n",
              "      <td>1.20414</td>\n",
              "      <td>2.25145</td>\n",
              "      <td>-0.25802</td>\n",
              "      <td>0.06246</td>\n",
              "      <td>-1.78623</td>\n",
              "      <td>-0.27690</td>\n",
              "      <td>-0.22255</td>\n",
              "      <td>0.20963</td>\n",
              "      <td>-0.062202</td>\n",
              "    </tr>\n",
              "    <tr>\n",
              "      <th>1</th>\n",
              "      <td>0.89456</td>\n",
              "      <td>-0.94099</td>\n",
              "      <td>-0.19972</td>\n",
              "      <td>-0.08354</td>\n",
              "      <td>-0.96865</td>\n",
              "      <td>0.62801</td>\n",
              "      <td>0.91543</td>\n",
              "      <td>0.20413</td>\n",
              "      <td>-0.13587</td>\n",
              "      <td>0.96820</td>\n",
              "      <td>0.112596</td>\n",
              "    </tr>\n",
              "    <tr>\n",
              "      <th>2</th>\n",
              "      <td>-0.98777</td>\n",
              "      <td>-0.55565</td>\n",
              "      <td>-0.94141</td>\n",
              "      <td>-1.86277</td>\n",
              "      <td>0.38659</td>\n",
              "      <td>-0.02523</td>\n",
              "      <td>-1.26714</td>\n",
              "      <td>1.07328</td>\n",
              "      <td>-0.28350</td>\n",
              "      <td>0.34430</td>\n",
              "      <td>0.167633</td>\n",
              "    </tr>\n",
              "    <tr>\n",
              "      <th>3</th>\n",
              "      <td>0.03972</td>\n",
              "      <td>-0.99258</td>\n",
              "      <td>0.63481</td>\n",
              "      <td>0.01554</td>\n",
              "      <td>-0.39203</td>\n",
              "      <td>-0.72647</td>\n",
              "      <td>0.46098</td>\n",
              "      <td>0.79395</td>\n",
              "      <td>0.22686</td>\n",
              "      <td>0.25065</td>\n",
              "      <td>-0.844727</td>\n",
              "    </tr>\n",
              "    <tr>\n",
              "      <th>4</th>\n",
              "      <td>-1.66022</td>\n",
              "      <td>-0.06734</td>\n",
              "      <td>-0.72252</td>\n",
              "      <td>-1.32035</td>\n",
              "      <td>0.06715</td>\n",
              "      <td>2.39937</td>\n",
              "      <td>-1.30566</td>\n",
              "      <td>-0.65222</td>\n",
              "      <td>0.36628</td>\n",
              "      <td>0.31644</td>\n",
              "      <td>2.221942</td>\n",
              "    </tr>\n",
              "  </tbody>\n",
              "</table>\n",
              "</div>\n",
              "      <button class=\"colab-df-convert\" onclick=\"convertToInteractive('df-5ee356fc-020d-4a4b-bbc4-c6da895ca978')\"\n",
              "              title=\"Convert this dataframe to an interactive table.\"\n",
              "              style=\"display:none;\">\n",
              "        \n",
              "  <svg xmlns=\"http://www.w3.org/2000/svg\" height=\"24px\"viewBox=\"0 0 24 24\"\n",
              "       width=\"24px\">\n",
              "    <path d=\"M0 0h24v24H0V0z\" fill=\"none\"/>\n",
              "    <path d=\"M18.56 5.44l.94 2.06.94-2.06 2.06-.94-2.06-.94-.94-2.06-.94 2.06-2.06.94zm-11 1L8.5 8.5l.94-2.06 2.06-.94-2.06-.94L8.5 2.5l-.94 2.06-2.06.94zm10 10l.94 2.06.94-2.06 2.06-.94-2.06-.94-.94-2.06-.94 2.06-2.06.94z\"/><path d=\"M17.41 7.96l-1.37-1.37c-.4-.4-.92-.59-1.43-.59-.52 0-1.04.2-1.43.59L10.3 9.45l-7.72 7.72c-.78.78-.78 2.05 0 2.83L4 21.41c.39.39.9.59 1.41.59.51 0 1.02-.2 1.41-.59l7.78-7.78 2.81-2.81c.8-.78.8-2.07 0-2.86zM5.41 20L4 18.59l7.72-7.72 1.47 1.35L5.41 20z\"/>\n",
              "  </svg>\n",
              "      </button>\n",
              "      \n",
              "  <style>\n",
              "    .colab-df-container {\n",
              "      display:flex;\n",
              "      flex-wrap:wrap;\n",
              "      gap: 12px;\n",
              "    }\n",
              "\n",
              "    .colab-df-convert {\n",
              "      background-color: #E8F0FE;\n",
              "      border: none;\n",
              "      border-radius: 50%;\n",
              "      cursor: pointer;\n",
              "      display: none;\n",
              "      fill: #1967D2;\n",
              "      height: 32px;\n",
              "      padding: 0 0 0 0;\n",
              "      width: 32px;\n",
              "    }\n",
              "\n",
              "    .colab-df-convert:hover {\n",
              "      background-color: #E2EBFA;\n",
              "      box-shadow: 0px 1px 2px rgba(60, 64, 67, 0.3), 0px 1px 3px 1px rgba(60, 64, 67, 0.15);\n",
              "      fill: #174EA6;\n",
              "    }\n",
              "\n",
              "    [theme=dark] .colab-df-convert {\n",
              "      background-color: #3B4455;\n",
              "      fill: #D2E3FC;\n",
              "    }\n",
              "\n",
              "    [theme=dark] .colab-df-convert:hover {\n",
              "      background-color: #434B5C;\n",
              "      box-shadow: 0px 1px 3px 1px rgba(0, 0, 0, 0.15);\n",
              "      filter: drop-shadow(0px 1px 2px rgba(0, 0, 0, 0.3));\n",
              "      fill: #FFFFFF;\n",
              "    }\n",
              "  </style>\n",
              "\n",
              "      <script>\n",
              "        const buttonEl =\n",
              "          document.querySelector('#df-5ee356fc-020d-4a4b-bbc4-c6da895ca978 button.colab-df-convert');\n",
              "        buttonEl.style.display =\n",
              "          google.colab.kernel.accessAllowed ? 'block' : 'none';\n",
              "\n",
              "        async function convertToInteractive(key) {\n",
              "          const element = document.querySelector('#df-5ee356fc-020d-4a4b-bbc4-c6da895ca978');\n",
              "          const dataTable =\n",
              "            await google.colab.kernel.invokeFunction('convertToInteractive',\n",
              "                                                     [key], {});\n",
              "          if (!dataTable) return;\n",
              "\n",
              "          const docLinkHtml = 'Like what you see? Visit the ' +\n",
              "            '<a target=\"_blank\" href=https://colab.research.google.com/notebooks/data_table.ipynb>data table notebook</a>'\n",
              "            + ' to learn more about interactive tables.';\n",
              "          element.innerHTML = '';\n",
              "          dataTable['output_type'] = 'display_data';\n",
              "          await google.colab.output.renderOutput(dataTable, element);\n",
              "          const docLink = document.createElement('div');\n",
              "          docLink.innerHTML = docLinkHtml;\n",
              "          element.appendChild(docLink);\n",
              "        }\n",
              "      </script>\n",
              "    </div>\n",
              "  </div>\n",
              "  "
            ]
          },
          "metadata": {},
          "execution_count": 5
        }
      ]
    },
    {
      "cell_type": "code",
      "source": [
        "regressao_Q2 = pd.read_csv(\"/content/regressao_Q2.csv\", encoding=\"ISO-8859-1\")\n",
        "regressao_Q2.head()"
      ],
      "metadata": {
        "colab": {
          "base_uri": "https://localhost:8080/",
          "height": 250
        },
        "id": "gOq6SY9iFChi",
        "outputId": "938dd66a-5875-43bd-ab12-eacaeb5a0b25"
      },
      "execution_count": 6,
      "outputs": [
        {
          "output_type": "execute_result",
          "data": {
            "text/plain": [
              "       v_1      v_2      v_3      v_4      v_5      v_6      v_7      v_8  \\\n",
              "0  1.92864  1.48414  0.86814 -0.67666 -0.28747 -1.45108 -0.73662  0.03134   \n",
              "1  0.22185 -0.55320 -0.29845  0.65870 -0.30132  1.49319 -0.43096  0.33835   \n",
              "2 -0.02183  0.13602 -0.37426 -1.29096  0.71912  1.95088  1.99309 -1.24197   \n",
              "3  0.86528  1.36937  1.27999  1.18124 -0.72465 -0.02175  0.40340 -0.28272   \n",
              "4  1.41333 -0.02920 -0.67228  1.76116 -1.12178  0.18002  0.48476 -0.76394   \n",
              "\n",
              "       v_9     v_10     v_11     v_12      target  \n",
              "0 -0.53872  1.30562  0.11557 -0.30478  127.682465  \n",
              "1 -0.30827  1.25765  1.88584 -0.57726   50.022972  \n",
              "2 -2.15377 -2.01455 -0.84625  0.29845  -24.364369  \n",
              "3 -0.44390  0.84051  0.03326 -0.98550   96.415408  \n",
              "4 -0.16421 -2.42048  0.79727 -0.44033  157.407129  "
            ],
            "text/html": [
              "\n",
              "  <div id=\"df-f0ab02f9-bb9c-47f3-97eb-4654089e85e3\">\n",
              "    <div class=\"colab-df-container\">\n",
              "      <div>\n",
              "<style scoped>\n",
              "    .dataframe tbody tr th:only-of-type {\n",
              "        vertical-align: middle;\n",
              "    }\n",
              "\n",
              "    .dataframe tbody tr th {\n",
              "        vertical-align: top;\n",
              "    }\n",
              "\n",
              "    .dataframe thead th {\n",
              "        text-align: right;\n",
              "    }\n",
              "</style>\n",
              "<table border=\"1\" class=\"dataframe\">\n",
              "  <thead>\n",
              "    <tr style=\"text-align: right;\">\n",
              "      <th></th>\n",
              "      <th>v_1</th>\n",
              "      <th>v_2</th>\n",
              "      <th>v_3</th>\n",
              "      <th>v_4</th>\n",
              "      <th>v_5</th>\n",
              "      <th>v_6</th>\n",
              "      <th>v_7</th>\n",
              "      <th>v_8</th>\n",
              "      <th>v_9</th>\n",
              "      <th>v_10</th>\n",
              "      <th>v_11</th>\n",
              "      <th>v_12</th>\n",
              "      <th>target</th>\n",
              "    </tr>\n",
              "  </thead>\n",
              "  <tbody>\n",
              "    <tr>\n",
              "      <th>0</th>\n",
              "      <td>1.92864</td>\n",
              "      <td>1.48414</td>\n",
              "      <td>0.86814</td>\n",
              "      <td>-0.67666</td>\n",
              "      <td>-0.28747</td>\n",
              "      <td>-1.45108</td>\n",
              "      <td>-0.73662</td>\n",
              "      <td>0.03134</td>\n",
              "      <td>-0.53872</td>\n",
              "      <td>1.30562</td>\n",
              "      <td>0.11557</td>\n",
              "      <td>-0.30478</td>\n",
              "      <td>127.682465</td>\n",
              "    </tr>\n",
              "    <tr>\n",
              "      <th>1</th>\n",
              "      <td>0.22185</td>\n",
              "      <td>-0.55320</td>\n",
              "      <td>-0.29845</td>\n",
              "      <td>0.65870</td>\n",
              "      <td>-0.30132</td>\n",
              "      <td>1.49319</td>\n",
              "      <td>-0.43096</td>\n",
              "      <td>0.33835</td>\n",
              "      <td>-0.30827</td>\n",
              "      <td>1.25765</td>\n",
              "      <td>1.88584</td>\n",
              "      <td>-0.57726</td>\n",
              "      <td>50.022972</td>\n",
              "    </tr>\n",
              "    <tr>\n",
              "      <th>2</th>\n",
              "      <td>-0.02183</td>\n",
              "      <td>0.13602</td>\n",
              "      <td>-0.37426</td>\n",
              "      <td>-1.29096</td>\n",
              "      <td>0.71912</td>\n",
              "      <td>1.95088</td>\n",
              "      <td>1.99309</td>\n",
              "      <td>-1.24197</td>\n",
              "      <td>-2.15377</td>\n",
              "      <td>-2.01455</td>\n",
              "      <td>-0.84625</td>\n",
              "      <td>0.29845</td>\n",
              "      <td>-24.364369</td>\n",
              "    </tr>\n",
              "    <tr>\n",
              "      <th>3</th>\n",
              "      <td>0.86528</td>\n",
              "      <td>1.36937</td>\n",
              "      <td>1.27999</td>\n",
              "      <td>1.18124</td>\n",
              "      <td>-0.72465</td>\n",
              "      <td>-0.02175</td>\n",
              "      <td>0.40340</td>\n",
              "      <td>-0.28272</td>\n",
              "      <td>-0.44390</td>\n",
              "      <td>0.84051</td>\n",
              "      <td>0.03326</td>\n",
              "      <td>-0.98550</td>\n",
              "      <td>96.415408</td>\n",
              "    </tr>\n",
              "    <tr>\n",
              "      <th>4</th>\n",
              "      <td>1.41333</td>\n",
              "      <td>-0.02920</td>\n",
              "      <td>-0.67228</td>\n",
              "      <td>1.76116</td>\n",
              "      <td>-1.12178</td>\n",
              "      <td>0.18002</td>\n",
              "      <td>0.48476</td>\n",
              "      <td>-0.76394</td>\n",
              "      <td>-0.16421</td>\n",
              "      <td>-2.42048</td>\n",
              "      <td>0.79727</td>\n",
              "      <td>-0.44033</td>\n",
              "      <td>157.407129</td>\n",
              "    </tr>\n",
              "  </tbody>\n",
              "</table>\n",
              "</div>\n",
              "      <button class=\"colab-df-convert\" onclick=\"convertToInteractive('df-f0ab02f9-bb9c-47f3-97eb-4654089e85e3')\"\n",
              "              title=\"Convert this dataframe to an interactive table.\"\n",
              "              style=\"display:none;\">\n",
              "        \n",
              "  <svg xmlns=\"http://www.w3.org/2000/svg\" height=\"24px\"viewBox=\"0 0 24 24\"\n",
              "       width=\"24px\">\n",
              "    <path d=\"M0 0h24v24H0V0z\" fill=\"none\"/>\n",
              "    <path d=\"M18.56 5.44l.94 2.06.94-2.06 2.06-.94-2.06-.94-.94-2.06-.94 2.06-2.06.94zm-11 1L8.5 8.5l.94-2.06 2.06-.94-2.06-.94L8.5 2.5l-.94 2.06-2.06.94zm10 10l.94 2.06.94-2.06 2.06-.94-2.06-.94-.94-2.06-.94 2.06-2.06.94z\"/><path d=\"M17.41 7.96l-1.37-1.37c-.4-.4-.92-.59-1.43-.59-.52 0-1.04.2-1.43.59L10.3 9.45l-7.72 7.72c-.78.78-.78 2.05 0 2.83L4 21.41c.39.39.9.59 1.41.59.51 0 1.02-.2 1.41-.59l7.78-7.78 2.81-2.81c.8-.78.8-2.07 0-2.86zM5.41 20L4 18.59l7.72-7.72 1.47 1.35L5.41 20z\"/>\n",
              "  </svg>\n",
              "      </button>\n",
              "      \n",
              "  <style>\n",
              "    .colab-df-container {\n",
              "      display:flex;\n",
              "      flex-wrap:wrap;\n",
              "      gap: 12px;\n",
              "    }\n",
              "\n",
              "    .colab-df-convert {\n",
              "      background-color: #E8F0FE;\n",
              "      border: none;\n",
              "      border-radius: 50%;\n",
              "      cursor: pointer;\n",
              "      display: none;\n",
              "      fill: #1967D2;\n",
              "      height: 32px;\n",
              "      padding: 0 0 0 0;\n",
              "      width: 32px;\n",
              "    }\n",
              "\n",
              "    .colab-df-convert:hover {\n",
              "      background-color: #E2EBFA;\n",
              "      box-shadow: 0px 1px 2px rgba(60, 64, 67, 0.3), 0px 1px 3px 1px rgba(60, 64, 67, 0.15);\n",
              "      fill: #174EA6;\n",
              "    }\n",
              "\n",
              "    [theme=dark] .colab-df-convert {\n",
              "      background-color: #3B4455;\n",
              "      fill: #D2E3FC;\n",
              "    }\n",
              "\n",
              "    [theme=dark] .colab-df-convert:hover {\n",
              "      background-color: #434B5C;\n",
              "      box-shadow: 0px 1px 3px 1px rgba(0, 0, 0, 0.15);\n",
              "      filter: drop-shadow(0px 1px 2px rgba(0, 0, 0, 0.3));\n",
              "      fill: #FFFFFF;\n",
              "    }\n",
              "  </style>\n",
              "\n",
              "      <script>\n",
              "        const buttonEl =\n",
              "          document.querySelector('#df-f0ab02f9-bb9c-47f3-97eb-4654089e85e3 button.colab-df-convert');\n",
              "        buttonEl.style.display =\n",
              "          google.colab.kernel.accessAllowed ? 'block' : 'none';\n",
              "\n",
              "        async function convertToInteractive(key) {\n",
              "          const element = document.querySelector('#df-f0ab02f9-bb9c-47f3-97eb-4654089e85e3');\n",
              "          const dataTable =\n",
              "            await google.colab.kernel.invokeFunction('convertToInteractive',\n",
              "                                                     [key], {});\n",
              "          if (!dataTable) return;\n",
              "\n",
              "          const docLinkHtml = 'Like what you see? Visit the ' +\n",
              "            '<a target=\"_blank\" href=https://colab.research.google.com/notebooks/data_table.ipynb>data table notebook</a>'\n",
              "            + ' to learn more about interactive tables.';\n",
              "          element.innerHTML = '';\n",
              "          dataTable['output_type'] = 'display_data';\n",
              "          await google.colab.output.renderOutput(dataTable, element);\n",
              "          const docLink = document.createElement('div');\n",
              "          docLink.innerHTML = docLinkHtml;\n",
              "          element.appendChild(docLink);\n",
              "        }\n",
              "      </script>\n",
              "    </div>\n",
              "  </div>\n",
              "  "
            ]
          },
          "metadata": {},
          "execution_count": 6
        }
      ]
    },
    {
      "cell_type": "code",
      "source": [
        "def separar_x_y(dados):\n",
        "  x_columns = dados.columns\n",
        "  y = dados[\"target\"]\n",
        "  x = dados[x_columns].drop([\"target\"], axis=1)\n",
        "  return  x,y"
      ],
      "metadata": {
        "id": "m1x5n8H6yn5T"
      },
      "execution_count": 7,
      "outputs": []
    },
    {
      "cell_type": "code",
      "source": [
        "from sklearn.model_selection import cross_validate\n",
        "from sklearn.model_selection import RepeatedStratifiedKFold\n",
        "from sklearn.model_selection import KFold\n",
        "\n",
        "def roda_cv_modelo(modelo, dados, n_splits, n_repeats, valor_corte=0.95):\n",
        "\n",
        "  # np.random.seed(1231234) # seed para garantir a reprodutibilidade do teste\n",
        "  # dados = dados.sample(frac=1).reset_index(drop=True) #embaralha os dados recebidos para evitar viés de ordem\n",
        "  \n",
        "  x,y = separar_x_y(dados)\n",
        "  \n",
        "  cv = KFold(n_splits = n_splits)\n",
        "  resultados = cross_validate(modelo, x, y, cv=cv) #teste score retorna como padrão a acurácia, com o \"scoring='roc_auc'\" nós garantimos que o retorno do teste score seja a AUC \n",
        "  print(resultados)\n",
        "\n",
        "  #Média e Desvio Padrão\n",
        "  auc_media = np.mean(resultados['test_score'])\n",
        "  auc_std = np.std(resultados['test_score'])\n",
        "  print(f\"AUC Médio do Modelo {type(modelo).__name__}: {auc_media:.4f}\")\n",
        "  print(f\"Intervalo do Modelo {type(modelo).__name__}: [{(auc_media - 2*auc_std):.4f},{(auc_media + 2*auc_std):.4f}]\")\n",
        "  print(f\"Diferença: {4*auc_std:.4f}\\n\") \n",
        "\n",
        "  return modelo"
      ],
      "metadata": {
        "id": "RwSwC8T5ySX8"
      },
      "execution_count": 8,
      "outputs": []
    },
    {
      "cell_type": "code",
      "source": [
        "from sklearn.linear_model import ElasticNet\n",
        "modelo_ElasticNet = ElasticNet(l1_ratio=0.001)"
      ],
      "metadata": {
        "id": "QvMiaxngycNj"
      },
      "execution_count": 9,
      "outputs": []
    },
    {
      "cell_type": "code",
      "source": [
        "roda_cv_modelo(modelo_ElasticNet, regressao_Q1, 5, 1)"
      ],
      "metadata": {
        "colab": {
          "base_uri": "https://localhost:8080/"
        },
        "id": "Y0-Vr4hAzFs7",
        "outputId": "13d8326c-90ff-48e4-baaa-21bf0904ad49"
      },
      "execution_count": 10,
      "outputs": [
        {
          "output_type": "stream",
          "name": "stdout",
          "text": [
            "{'fit_time': array([0.0069294 , 0.00281644, 0.00270939, 0.00288963, 0.00286865]), 'score_time': array([0.0027287 , 0.00207639, 0.00197768, 0.00193572, 0.00192666]), 'test_score': array([0.73089597, 0.73956992, 0.73265675, 0.73178178, 0.73727018])}\n",
            "AUC Médio do Modelo ElasticNet: 0.7344\n",
            "Intervalo do Modelo ElasticNet: [0.7277,0.7412]\n",
            "Diferença: 0.0135\n",
            "\n"
          ]
        },
        {
          "output_type": "execute_result",
          "data": {
            "text/plain": [
              "ElasticNet(l1_ratio=0.001)"
            ]
          },
          "metadata": {},
          "execution_count": 10
        }
      ]
    },
    {
      "cell_type": "code",
      "source": [
        "from sklearn.model_selection import train_test_split\n",
        "from sklearn.model_selection import cross_val_score\n",
        "X,y = separar_x_y(regressao_Q1)\n",
        "X_train, X_test, y_train, y_test = train_test_split(X, y, \n",
        "                                                    train_size=0.7,\n",
        "                                                    test_size = 0.3, random_state=40)\n",
        "scores = cross_val_score(modelo_ElasticNet, X_train, y_train, cv=5)\n",
        "scores  "
      ],
      "metadata": {
        "colab": {
          "base_uri": "https://localhost:8080/"
        },
        "id": "hJZHBboA-2Im",
        "outputId": "bb345c45-11cc-4496-bdfc-50de542506c5"
      },
      "execution_count": 11,
      "outputs": [
        {
          "output_type": "execute_result",
          "data": {
            "text/plain": [
              "array([0.73463841, 0.73174948, 0.74110512, 0.73898893, 0.74073459])"
            ]
          },
          "metadata": {},
          "execution_count": 11
        }
      ]
    },
    {
      "cell_type": "code",
      "source": [
        "modelo_ElasticNet.fit(X_train, y_train).score(X_test, y_test)"
      ],
      "metadata": {
        "colab": {
          "base_uri": "https://localhost:8080/"
        },
        "id": "GAYSWSy5_uX5",
        "outputId": "67da7574-646a-4c92-cc67-fbf0a5d68dbb"
      },
      "execution_count": 12,
      "outputs": [
        {
          "output_type": "execute_result",
          "data": {
            "text/plain": [
              "0.7388842720409683"
            ]
          },
          "metadata": {},
          "execution_count": 12
        }
      ]
    },
    {
      "cell_type": "code",
      "source": [
        "from sklearn.svm import SVC\n",
        "modelo_SVC = SVC(kernel=\"linear\")"
      ],
      "metadata": {
        "id": "sHgZqmJJ5JjU"
      },
      "execution_count": 13,
      "outputs": []
    },
    {
      "cell_type": "code",
      "source": [
        "roda_cv_modelo(modelo_SVC, regressao_Q2, 5, 1)"
      ],
      "metadata": {
        "colab": {
          "base_uri": "https://localhost:8080/"
        },
        "id": "G_IBS55h5NUb",
        "outputId": "585276c6-0c60-434c-b46f-5cd41a4705ef"
      },
      "execution_count": 14,
      "outputs": [
        {
          "output_type": "stream",
          "name": "stdout",
          "text": [
            "{'fit_time': array([0.00487685, 0.00333309, 0.0022552 , 0.00233436, 0.00229454]), 'score_time': array([0., 0., 0., 0., 0.]), 'test_score': array([nan, nan, nan, nan, nan])}\n",
            "AUC Médio do Modelo SVC: nan\n",
            "Intervalo do Modelo SVC: [nan,nan]\n",
            "Diferença: nan\n",
            "\n"
          ]
        },
        {
          "output_type": "stream",
          "name": "stderr",
          "text": [
            "/usr/local/lib/python3.7/dist-packages/sklearn/model_selection/_validation.py:372: FitFailedWarning: \n",
            "5 fits failed out of a total of 5.\n",
            "The score on these train-test partitions for these parameters will be set to nan.\n",
            "If these failures are not expected, you can try to debug them by setting error_score='raise'.\n",
            "\n",
            "Below are more details about the failures:\n",
            "--------------------------------------------------------------------------------\n",
            "5 fits failed with the following error:\n",
            "Traceback (most recent call last):\n",
            "  File \"/usr/local/lib/python3.7/dist-packages/sklearn/model_selection/_validation.py\", line 680, in _fit_and_score\n",
            "    estimator.fit(X_train, y_train, **fit_params)\n",
            "  File \"/usr/local/lib/python3.7/dist-packages/sklearn/svm/_base.py\", line 199, in fit\n",
            "    y = self._validate_targets(y)\n",
            "  File \"/usr/local/lib/python3.7/dist-packages/sklearn/svm/_base.py\", line 716, in _validate_targets\n",
            "    check_classification_targets(y)\n",
            "  File \"/usr/local/lib/python3.7/dist-packages/sklearn/utils/multiclass.py\", line 197, in check_classification_targets\n",
            "    raise ValueError(\"Unknown label type: %r\" % y_type)\n",
            "ValueError: Unknown label type: 'continuous'\n",
            "\n",
            "  warnings.warn(some_fits_failed_message, FitFailedWarning)\n"
          ]
        },
        {
          "output_type": "execute_result",
          "data": {
            "text/plain": [
              "SVC(kernel='linear')"
            ]
          },
          "metadata": {},
          "execution_count": 14
        }
      ]
    },
    {
      "cell_type": "code",
      "source": [
        "from sklearn.svm import SVC"
      ],
      "metadata": {
        "id": "eC1EfeLDBgat"
      },
      "execution_count": 15,
      "outputs": []
    },
    {
      "cell_type": "code",
      "source": [
        "from sklearn.metrics import mean_absolute_percentage_error\n",
        "y_true_a = [0.1, 0.0, 0.2, 0.1]\n",
        "y_true_b = [0.11, 0.01, 0.2, 0.1]\n",
        "y_true_c = [0.1, 0.2, 0.2, 0.1]\n",
        "y_true_d = [0.1, 0.1, 0.1, 0.1]\n",
        "\n",
        "y_pred = [0.1, 0.0, 0.2, 0.1]"
      ],
      "metadata": {
        "id": "sKE3ZFPqDuW4"
      },
      "execution_count": 16,
      "outputs": []
    },
    {
      "cell_type": "code",
      "source": [
        "mean_absolute_percentage_error(y_true_a, y_pred)"
      ],
      "metadata": {
        "colab": {
          "base_uri": "https://localhost:8080/"
        },
        "id": "enKYNBdBDuRu",
        "outputId": "3c5d7999-93ad-4321-d397-121a711a952f"
      },
      "execution_count": 17,
      "outputs": [
        {
          "output_type": "execute_result",
          "data": {
            "text/plain": [
              "0.0"
            ]
          },
          "metadata": {},
          "execution_count": 17
        }
      ]
    },
    {
      "cell_type": "code",
      "source": [
        "mean_absolute_percentage_error(y_true_b, y_pred)"
      ],
      "metadata": {
        "colab": {
          "base_uri": "https://localhost:8080/"
        },
        "id": "Xqj59I6cDuJV",
        "outputId": "a5280e42-890e-439b-a5f3-76ff61aefd1a"
      },
      "execution_count": 18,
      "outputs": [
        {
          "output_type": "execute_result",
          "data": {
            "text/plain": [
              "0.2727272727272727"
            ]
          },
          "metadata": {},
          "execution_count": 18
        }
      ]
    },
    {
      "cell_type": "code",
      "source": [
        "mean_absolute_percentage_error(y_true_c, y_pred)"
      ],
      "metadata": {
        "colab": {
          "base_uri": "https://localhost:8080/"
        },
        "id": "n6LN8PwcEqEl",
        "outputId": "143a794c-a163-42e8-cf70-5eee606bc6e1"
      },
      "execution_count": 19,
      "outputs": [
        {
          "output_type": "execute_result",
          "data": {
            "text/plain": [
              "0.25"
            ]
          },
          "metadata": {},
          "execution_count": 19
        }
      ]
    },
    {
      "cell_type": "code",
      "source": [
        "mean_absolute_percentage_error(y_true_d, y_pred)"
      ],
      "metadata": {
        "colab": {
          "base_uri": "https://localhost:8080/"
        },
        "id": "-RuHIoHLEp7-",
        "outputId": "87afdea7-4d99-412c-ead0-34af3b2a151b"
      },
      "execution_count": 20,
      "outputs": [
        {
          "output_type": "execute_result",
          "data": {
            "text/plain": [
              "0.5"
            ]
          },
          "metadata": {},
          "execution_count": 20
        }
      ]
    },
    {
      "cell_type": "code",
      "source": [
        "from sklearn.tree import DecisionTreeClassifier\n",
        "modelo_DecTree = DecisionTreeClassifier(criterion=\"entropy\")"
      ],
      "metadata": {
        "id": "8LmOIRsdEv63"
      },
      "execution_count": 21,
      "outputs": []
    },
    {
      "cell_type": "code",
      "source": [
        "roda_cv_modelo(modelo_DecTree, classificacao_Q1, 10, 1)"
      ],
      "metadata": {
        "colab": {
          "base_uri": "https://localhost:8080/"
        },
        "id": "XmgXx7ZZKpzW",
        "outputId": "57e48f12-b29b-4417-80d1-3ba7ef9c8b18"
      },
      "execution_count": 22,
      "outputs": [
        {
          "output_type": "stream",
          "name": "stdout",
          "text": [
            "{'fit_time': array([0.02058911, 0.02971697, 0.02090573, 0.0210259 , 0.0221312 ,\n",
            "       0.02046132, 0.02252531, 0.02455425, 0.02113032, 0.03204298]), 'score_time': array([0.00161028, 0.0014379 , 0.00124288, 0.00121427, 0.00131321,\n",
            "       0.00118351, 0.00128031, 0.00275946, 0.00185895, 0.00136256]), 'test_score': array([0.90555556, 0.9       , 0.85555556, 0.93333333, 0.9       ,\n",
            "       0.9       , 0.89444444, 0.96666667, 0.91666667, 0.92777778])}\n",
            "AUC Médio do Modelo DecisionTreeClassifier: 0.9100\n",
            "Intervalo do Modelo DecisionTreeClassifier: [0.8547,0.9653]\n",
            "Diferença: 0.1106\n",
            "\n"
          ]
        },
        {
          "output_type": "execute_result",
          "data": {
            "text/plain": [
              "DecisionTreeClassifier(criterion='entropy')"
            ]
          },
          "metadata": {},
          "execution_count": 22
        }
      ]
    },
    {
      "cell_type": "code",
      "source": [
        "from sklearn.metrics import log_loss\n",
        "X,y = separar_x_y(classificacao_Q1)\n",
        "y_true = y\n",
        "y_pred = modelo_DecTree.fit(X,y).predict(X)\n",
        "log_loss(y_true, y_pred)"
      ],
      "metadata": {
        "colab": {
          "base_uri": "https://localhost:8080/"
        },
        "id": "DDIylfwULvQ2",
        "outputId": "04423f47-308a-4b10-abb6-5c9452212dba"
      },
      "execution_count": 27,
      "outputs": [
        {
          "output_type": "execute_result",
          "data": {
            "text/plain": [
              "9.992007221626413e-16"
            ]
          },
          "metadata": {},
          "execution_count": 27
        }
      ]
    },
    {
      "cell_type": "code",
      "source": [
        "from sklearn.linear_model import LogisticRegression\n",
        "modelo_LogReg = LogisticRegression(penalty=\"l2\", C=0.1)"
      ],
      "metadata": {
        "id": "_m4MD3tuM7GU"
      },
      "execution_count": 30,
      "outputs": []
    },
    {
      "cell_type": "code",
      "source": [
        "roda_cv_modelo(modelo_LogReg, classificacao_Q2, 10, 1)"
      ],
      "metadata": {
        "colab": {
          "base_uri": "https://localhost:8080/"
        },
        "id": "78CwB0H-NT_3",
        "outputId": "ed3915a3-6132-4e2f-e5f0-9b6f538c2072"
      },
      "execution_count": 31,
      "outputs": [
        {
          "output_type": "stream",
          "name": "stdout",
          "text": [
            "{'fit_time': array([0.02161193, 0.01360631, 0.01447582, 0.01389074, 0.01470399,\n",
            "       0.01501083, 0.01363349, 0.01383662, 0.02991319, 0.01407218]), 'score_time': array([0.00228024, 0.00194335, 0.00200868, 0.00207853, 0.002069  ,\n",
            "       0.00197029, 0.00201178, 0.00178003, 0.00220561, 0.00185323]), 'test_score': array([0.8  , 0.816, 0.764, 0.832, 0.816, 0.848, 0.812, 0.78 , 0.832,\n",
            "       0.78 ])}\n",
            "AUC Médio do Modelo LogisticRegression: 0.8080\n",
            "Intervalo do Modelo LogisticRegression: [0.7572,0.8588]\n",
            "Diferença: 0.1017\n",
            "\n"
          ]
        },
        {
          "output_type": "execute_result",
          "data": {
            "text/plain": [
              "LogisticRegression(C=0.1)"
            ]
          },
          "metadata": {},
          "execution_count": 31
        }
      ]
    }
  ]
}